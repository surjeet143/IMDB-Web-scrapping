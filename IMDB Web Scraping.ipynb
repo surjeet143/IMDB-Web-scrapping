{
 "cells": [
  {
   "cell_type": "markdown",
   "metadata": {},
   "source": [
    "# Web Scrapping for top 250 movies on IMDB\n",
    "Web Scrapping is the technique to fetch the usefull data from the webpage. This data can be exported as csv file or any other desired format and can used for the further analysis. Below is the code to extract the top 250 movies from the [IMDB Webpage for top 250 movies](https://www.imdb.com/chart/top/?ref_=nv_mv_250) \n"
   ]
  },
  {
   "cell_type": "code",
   "execution_count": 7,
   "metadata": {},
   "outputs": [],
   "source": [
    "import bs4 as bs\n",
    "import urllib.request\n",
    "import lxml\n",
    "import requests\n",
    "import pandas as pd"
   ]
  },
  {
   "cell_type": "code",
   "execution_count": 25,
   "metadata": {},
   "outputs": [],
   "source": [
    "# defining function to web scrape the web page\n",
    "# paste the link in the webscrap function\n",
    "def webscrap(link):\n",
    "    # fetching the wbpage\n",
    "    print(\"fetching the data from the webpage...\")\n",
    "    page = requests.get(link)\n",
    "    soup = bs.BeautifulSoup(page.text, \"html.parser\")\n",
    "    # extracting the movietags and innertags\n",
    "    movietags = soup.select(\"td.titleColumn\")\n",
    "    inner_movietags = soup.select(\"td.titleColumn a\")\n",
    "    # extracting the name of the movie\n",
    "    print(\"fetching movie names...\")\n",
    "    movie_names = [movie.text for movie in inner_movietags]\n",
    "    # extracting the actors including the director\n",
    "    print(\"fetching actors...\")\n",
    "    actors = [movie[\"title\"] for movie in inner_movietags]\n",
    "    # year of release of movie\n",
    "    print(\"fetching year of release...\")\n",
    "    years = [movie.text.split()[-1].replace(\")\",\"\").replace(\"(\",\"\") for movie in movietags]\n",
    "    # imdb rating tag of the movie \n",
    "    rating_tags = soup.select(\"td.posterColumn span[name = ir]\")\n",
    "    # imdb rating of movie\n",
    "    print(\"fetching movie rating...\")\n",
    "    rating = [round(float(movie['data-value']),2) for movie in rating_tags]\n",
    "    # creating a dictionary of all the list created above\n",
    "    dict = {'movie name': movie_names, 'actors': actors, 'rating': rating, \"year\": years} \n",
    "    # converting the dictionary into dataframe\n",
    "    df = pd.DataFrame(dict)\n",
    "    # Extracting the directors\n",
    "    print(\"fetching movie director...\")\n",
    "    df[\"director\"]=[actors[0].replace(\"(dir.)\",\"\").strip() for actors in df[\"actors\"].str.split(\",\")]\n",
    "    # changing the datatype of year from string to numeric\n",
    "    df[\"year\"] = df[\"year\"].apply(pd.to_numeric)\n",
    "    print(\"creating dataframe...\")\n",
    "    return (df)\n",
    "\n",
    "def save_csv(df, name):\n",
    "    if name[-4:] == \".csv\":\n",
    "        df.to_csv(name)\n",
    "    else:\n",
    "        name = name + \".csv\"\n",
    "        df.to_csv(name)\n",
    "    print(\"your file\",name, \"has been saved\")"
   ]
  },
  {
   "cell_type": "markdown",
   "metadata": {},
   "source": [
    "## line by line breakdown of above functions"
   ]
  },
  {
   "cell_type": "code",
   "execution_count": 9,
   "metadata": {},
   "outputs": [],
   "source": [
    "# fetching the webpage\n",
    "page = urllib.request.urlopen(\"https://www.imdb.com/chart/top/?ref_=nv_mv_250/\").read()\n",
    "soup = bs.BeautifulSoup(page, \"lxml\")"
   ]
  },
  {
   "cell_type": "code",
   "execution_count": 10,
   "metadata": {},
   "outputs": [],
   "source": [
    "# this can also be used to fetch the webpage\n",
    "page = requests.get(\"https://www.imdb.com/chart/top/?ref_=nv_mv_250/\")\n",
    "soup = bs.BeautifulSoup(page.text, \"html.parser\")"
   ]
  },
  {
   "cell_type": "code",
   "execution_count": 11,
   "metadata": {},
   "outputs": [],
   "source": [
    "# extracting the movie tags and inner movie tags\n",
    "movietags = soup.select(\"td.titleColumn\")\n",
    "inner_movietags = soup.select(\"td.titleColumn a\")"
   ]
  },
  {
   "cell_type": "code",
   "execution_count": 12,
   "metadata": {},
   "outputs": [],
   "source": [
    "# extracting the name of the movie\n",
    "movie_names = [movie.text for movie in inner_movietags]"
   ]
  },
  {
   "cell_type": "code",
   "execution_count": 13,
   "metadata": {},
   "outputs": [],
   "source": [
    "# extracting the actors including the director\n",
    "actors = [movie[\"title\"] for movie in inner_movietags]"
   ]
  },
  {
   "cell_type": "code",
   "execution_count": 14,
   "metadata": {},
   "outputs": [],
   "source": [
    "# year of release of movie\n",
    "years = [movie.text.split()[-1].replace(\")\",\"\").replace(\"(\",\"\") for movie in movietags]"
   ]
  },
  {
   "cell_type": "code",
   "execution_count": 15,
   "metadata": {},
   "outputs": [],
   "source": [
    "# imdb rating tag of the movie \n",
    "rating_tags = soup.select(\"td.posterColumn span[name = ir]\")\n",
    "# imdb rating of movie\n",
    "rating = [round(float(movie['data-value']),2) for movie in rating_tags]"
   ]
  },
  {
   "cell_type": "code",
   "execution_count": 16,
   "metadata": {},
   "outputs": [],
   "source": [
    "# creating a dictionary of all the list created above\n",
    "dict = {'movie name': movie_names, 'actors': actors, 'rating': rating, \"year\": years} "
   ]
  },
  {
   "cell_type": "code",
   "execution_count": 17,
   "metadata": {},
   "outputs": [
    {
     "data": {
      "text/html": [
       "<div>\n",
       "<style scoped>\n",
       "    .dataframe tbody tr th:only-of-type {\n",
       "        vertical-align: middle;\n",
       "    }\n",
       "\n",
       "    .dataframe tbody tr th {\n",
       "        vertical-align: top;\n",
       "    }\n",
       "\n",
       "    .dataframe thead th {\n",
       "        text-align: right;\n",
       "    }\n",
       "</style>\n",
       "<table border=\"1\" class=\"dataframe\">\n",
       "  <thead>\n",
       "    <tr style=\"text-align: right;\">\n",
       "      <th></th>\n",
       "      <th>movie name</th>\n",
       "      <th>actors</th>\n",
       "      <th>rating</th>\n",
       "      <th>year</th>\n",
       "    </tr>\n",
       "  </thead>\n",
       "  <tbody>\n",
       "    <tr>\n",
       "      <th>0</th>\n",
       "      <td>The Shawshank Redemption</td>\n",
       "      <td>Frank Darabont (dir.), Tim Robbins, Morgan Fre...</td>\n",
       "      <td>9.22</td>\n",
       "      <td>1994</td>\n",
       "    </tr>\n",
       "    <tr>\n",
       "      <th>1</th>\n",
       "      <td>The Godfather</td>\n",
       "      <td>Francis Ford Coppola (dir.), Marlon Brando, Al...</td>\n",
       "      <td>9.15</td>\n",
       "      <td>1972</td>\n",
       "    </tr>\n",
       "    <tr>\n",
       "      <th>2</th>\n",
       "      <td>The Godfather: Part II</td>\n",
       "      <td>Francis Ford Coppola (dir.), Al Pacino, Robert...</td>\n",
       "      <td>8.98</td>\n",
       "      <td>1974</td>\n",
       "    </tr>\n",
       "    <tr>\n",
       "      <th>3</th>\n",
       "      <td>The Dark Knight</td>\n",
       "      <td>Christopher Nolan (dir.), Christian Bale, Heat...</td>\n",
       "      <td>8.97</td>\n",
       "      <td>2008</td>\n",
       "    </tr>\n",
       "    <tr>\n",
       "      <th>4</th>\n",
       "      <td>12 Angry Men</td>\n",
       "      <td>Sidney Lumet (dir.), Henry Fonda, Lee J. Cobb</td>\n",
       "      <td>8.93</td>\n",
       "      <td>1957</td>\n",
       "    </tr>\n",
       "  </tbody>\n",
       "</table>\n",
       "</div>"
      ],
      "text/plain": [
       "                 movie name  \\\n",
       "0  The Shawshank Redemption   \n",
       "1             The Godfather   \n",
       "2    The Godfather: Part II   \n",
       "3           The Dark Knight   \n",
       "4              12 Angry Men   \n",
       "\n",
       "                                              actors  rating  year  \n",
       "0  Frank Darabont (dir.), Tim Robbins, Morgan Fre...    9.22  1994  \n",
       "1  Francis Ford Coppola (dir.), Marlon Brando, Al...    9.15  1972  \n",
       "2  Francis Ford Coppola (dir.), Al Pacino, Robert...    8.98  1974  \n",
       "3  Christopher Nolan (dir.), Christian Bale, Heat...    8.97  2008  \n",
       "4      Sidney Lumet (dir.), Henry Fonda, Lee J. Cobb    8.93  1957  "
      ]
     },
     "execution_count": 17,
     "metadata": {},
     "output_type": "execute_result"
    }
   ],
   "source": [
    "# converting the dictionary into dataframe\n",
    "df = pd.DataFrame(dict)\n",
    "df.head()"
   ]
  },
  {
   "cell_type": "code",
   "execution_count": 18,
   "metadata": {},
   "outputs": [],
   "source": [
    "# Extracting the directors\n",
    "df[\"director\"]=[actors[0].replace(\"(dir.)\",\"\").strip() for actors in df[\"actors\"].str.split(\",\")]"
   ]
  },
  {
   "cell_type": "code",
   "execution_count": 19,
   "metadata": {},
   "outputs": [],
   "source": [
    "# changing the datatype of year from string to numeric\n",
    "df[\"year\"] = df[\"year\"].apply(pd.to_numeric)"
   ]
  },
  {
   "cell_type": "code",
   "execution_count": 20,
   "metadata": {},
   "outputs": [
    {
     "data": {
      "text/html": [
       "<div>\n",
       "<style scoped>\n",
       "    .dataframe tbody tr th:only-of-type {\n",
       "        vertical-align: middle;\n",
       "    }\n",
       "\n",
       "    .dataframe tbody tr th {\n",
       "        vertical-align: top;\n",
       "    }\n",
       "\n",
       "    .dataframe thead th {\n",
       "        text-align: right;\n",
       "    }\n",
       "</style>\n",
       "<table border=\"1\" class=\"dataframe\">\n",
       "  <thead>\n",
       "    <tr style=\"text-align: right;\">\n",
       "      <th></th>\n",
       "      <th>movie name</th>\n",
       "      <th>actors</th>\n",
       "      <th>rating</th>\n",
       "      <th>year</th>\n",
       "      <th>director</th>\n",
       "    </tr>\n",
       "  </thead>\n",
       "  <tbody>\n",
       "    <tr>\n",
       "      <th>0</th>\n",
       "      <td>The Shawshank Redemption</td>\n",
       "      <td>Frank Darabont (dir.), Tim Robbins, Morgan Fre...</td>\n",
       "      <td>9.22</td>\n",
       "      <td>1994</td>\n",
       "      <td>Frank Darabont</td>\n",
       "    </tr>\n",
       "    <tr>\n",
       "      <th>1</th>\n",
       "      <td>The Godfather</td>\n",
       "      <td>Francis Ford Coppola (dir.), Marlon Brando, Al...</td>\n",
       "      <td>9.15</td>\n",
       "      <td>1972</td>\n",
       "      <td>Francis Ford Coppola</td>\n",
       "    </tr>\n",
       "    <tr>\n",
       "      <th>2</th>\n",
       "      <td>The Godfather: Part II</td>\n",
       "      <td>Francis Ford Coppola (dir.), Al Pacino, Robert...</td>\n",
       "      <td>8.98</td>\n",
       "      <td>1974</td>\n",
       "      <td>Francis Ford Coppola</td>\n",
       "    </tr>\n",
       "    <tr>\n",
       "      <th>3</th>\n",
       "      <td>The Dark Knight</td>\n",
       "      <td>Christopher Nolan (dir.), Christian Bale, Heat...</td>\n",
       "      <td>8.97</td>\n",
       "      <td>2008</td>\n",
       "      <td>Christopher Nolan</td>\n",
       "    </tr>\n",
       "    <tr>\n",
       "      <th>4</th>\n",
       "      <td>12 Angry Men</td>\n",
       "      <td>Sidney Lumet (dir.), Henry Fonda, Lee J. Cobb</td>\n",
       "      <td>8.93</td>\n",
       "      <td>1957</td>\n",
       "      <td>Sidney Lumet</td>\n",
       "    </tr>\n",
       "  </tbody>\n",
       "</table>\n",
       "</div>"
      ],
      "text/plain": [
       "                 movie name  \\\n",
       "0  The Shawshank Redemption   \n",
       "1             The Godfather   \n",
       "2    The Godfather: Part II   \n",
       "3           The Dark Knight   \n",
       "4              12 Angry Men   \n",
       "\n",
       "                                              actors  rating  year  \\\n",
       "0  Frank Darabont (dir.), Tim Robbins, Morgan Fre...    9.22  1994   \n",
       "1  Francis Ford Coppola (dir.), Marlon Brando, Al...    9.15  1972   \n",
       "2  Francis Ford Coppola (dir.), Al Pacino, Robert...    8.98  1974   \n",
       "3  Christopher Nolan (dir.), Christian Bale, Heat...    8.97  2008   \n",
       "4      Sidney Lumet (dir.), Henry Fonda, Lee J. Cobb    8.93  1957   \n",
       "\n",
       "               director  \n",
       "0        Frank Darabont  \n",
       "1  Francis Ford Coppola  \n",
       "2  Francis Ford Coppola  \n",
       "3     Christopher Nolan  \n",
       "4          Sidney Lumet  "
      ]
     },
     "execution_count": 20,
     "metadata": {},
     "output_type": "execute_result"
    }
   ],
   "source": [
    "df.head()"
   ]
  },
  {
   "cell_type": "code",
   "execution_count": 28,
   "metadata": {},
   "outputs": [
    {
     "data": {
      "text/plain": [
       "movie name     object\n",
       "actors         object\n",
       "rating        float64\n",
       "year            int64\n",
       "director       object\n",
       "dtype: object"
      ]
     },
     "execution_count": 28,
     "metadata": {},
     "output_type": "execute_result"
    }
   ],
   "source": [
    "df.dtypes"
   ]
  },
  {
   "cell_type": "code",
   "execution_count": 29,
   "metadata": {},
   "outputs": [],
   "source": [
    "# saving the file as csv file\n",
    "df.to_csv(\"top_250_movies_imdb.csv\")"
   ]
  },
  {
   "cell_type": "code",
   "execution_count": null,
   "metadata": {},
   "outputs": [],
   "source": []
  }
 ],
 "metadata": {
  "kernelspec": {
   "display_name": "Python 3",
   "language": "python",
   "name": "python3"
  },
  "language_info": {
   "codemirror_mode": {
    "name": "ipython",
    "version": 3
   },
   "file_extension": ".py",
   "mimetype": "text/x-python",
   "name": "python",
   "nbconvert_exporter": "python",
   "pygments_lexer": "ipython3",
   "version": "3.7.3"
  }
 },
 "nbformat": 4,
 "nbformat_minor": 4
}
